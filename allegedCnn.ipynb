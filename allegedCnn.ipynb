{
 "cells": [
  {
   "attachments": {},
   "cell_type": "markdown",
   "metadata": {},
   "source": [
    "# CNN Development"
   ]
  },
  {
   "attachments": {},
   "cell_type": "markdown",
   "metadata": {},
   "source": [
    "## Structure\n",
    "\n",
    "We will have 4 separated convolutional networks, three for the 2D features and another to the 1D data, that will be flattened and concatenated into a MLP"
   ]
  },
  {
   "cell_type": "code",
   "execution_count": 47,
   "metadata": {},
   "outputs": [],
   "source": [
    "import tensorflow as tf\n",
    "from tensorflow import keras\n",
    "from tensorflow.keras import models, layers\n",
    "from keras import regularizers\n",
    "from tensorflow.python.client import device_lib\n",
    "import pandas as pd\n",
    "from sklearn.model_selection import train_test_split\n",
    "import numpy as np\n",
    "import pickle"
   ]
  },
  {
   "attachments": {},
   "cell_type": "markdown",
   "metadata": {},
   "source": [
    "### Model\n",
    "\n",
    "Features & Shapes:\n",
    "\n",
    "- 2D Chromagram: (12, 321)\n",
    "- 2D Mel Spectogram: (128, 321)\n",
    "- 2D Fourier Tempogram: (508, 322)\n",
    "- 1D Features: (40)"
   ]
  },
  {
   "attachments": {},
   "cell_type": "markdown",
   "metadata": {},
   "source": [
    "#### Chromagram Layer"
   ]
  },
  {
   "cell_type": "code",
   "execution_count": 48,
   "metadata": {},
   "outputs": [],
   "source": [
    "chromagram_shape = (12, 321, 1)\n",
    "\n",
    "chromagram_input = keras.Input(shape=chromagram_shape, name='chromagram_input')\n",
    "\n",
    "chromalayer = layers.Conv2D(64, (4,4), activation='relu')(chromagram_input)\n",
    "# chromalayer = layers.Conv2D(64, (3,3), activation='relu')(chromalayer)\n",
    "chromalayer = layers.MaxPooling2D((2,2))(chromalayer)\n",
    "chromalayer = layers.Dropout(0.2)(chromalayer)\n",
    "# chromalayer = layers.Conv2D(64, (3,3), activation='relu')(chromalayer)\n",
    "chromalayer = layers.Flatten()(chromalayer)"
   ]
  },
  {
   "attachments": {},
   "cell_type": "markdown",
   "metadata": {},
   "source": [
    "#### Mel Spectrogram Layer"
   ]
  },
  {
   "cell_type": "code",
   "execution_count": 49,
   "metadata": {},
   "outputs": [],
   "source": [
    "mel_shape = (128, 321, 1)\n",
    "\n",
    "mel_spectogram_input = keras.Input(shape=mel_shape, name='mel_spectogram_input')\n",
    "\n",
    "mellayer = layers.Conv2D(64, (3,3), activation='relu')(mel_spectogram_input)\n",
    "mellayer = layers.MaxPooling2D((2,2))(mellayer)\n",
    "mellayer = layers.Dropout(0.3)(mellayer)\n",
    "mellayer = layers.Conv2D(32, (3,3), activation='relu')(mellayer)\n",
    "mellayer = layers.MaxPooling2D((2,2))(mellayer)\n",
    "mellayer = layers.Dropout(0.3)(mellayer)\n",
    "mellayer = layers.Flatten()(mellayer)"
   ]
  },
  {
   "attachments": {},
   "cell_type": "markdown",
   "metadata": {},
   "source": [
    "#### Fourier Tempogram Layer"
   ]
  },
  {
   "cell_type": "code",
   "execution_count": 50,
   "metadata": {},
   "outputs": [],
   "source": [
    "tempogram_shape = (508, 322, 1)\n",
    "\n",
    "fourier_tempogram = keras.Input(shape=tempogram_shape, name='fourier_tempogram')\n",
    "\n",
    "fourierlayer = layers.Conv2D(128, (3,3), activation='relu')(fourier_tempogram)\n",
    "fourierlayer = layers.MaxPooling2D((3,3))(fourierlayer)\n",
    "fourierlayer = layers.Conv2D(64, (3,3), activation='relu')(fourierlayer)\n",
    "fourierlayer = layers.MaxPooling2D((3,3))(fourierlayer)\t\n",
    "fourierlayer = layers.Dropout(0.3)(fourierlayer)\n",
    "fourierlayer = layers.Conv2D(32, (3,3), activation='relu')(fourierlayer)\n",
    "# fourierlayer = layers.Dropout(0.4)(fourierlayer)\n",
    "# fourierlayer = layers.Conv2D(64, (3,3), activation='relu')(fourierlayer)\n",
    "fourierlayer = layers.Flatten()(fourierlayer)"
   ]
  },
  {
   "attachments": {},
   "cell_type": "markdown",
   "metadata": {},
   "source": [
    "#### 1D Features Layer"
   ]
  },
  {
   "cell_type": "code",
   "execution_count": 51,
   "metadata": {},
   "outputs": [],
   "source": [
    "features_1d_shape = (321, 4)\n",
    "\n",
    "features_1d = keras.Input(shape=features_1d_shape, name='features_1d')\n",
    "\n",
    "featureslayer = layers.Conv1D(32, 3, activation='relu')(features_1d)\n",
    "featureslayer = layers.MaxPooling1D(2)(featureslayer)\n",
    "featureslayer = layers.Conv1D(64, 3, activation='relu')(featureslayer)\n",
    "featureslayer = layers.MaxPooling1D(2)(featureslayer)\n",
    "featureslayer = layers.Dropout(0.2)(featureslayer)\n",
    "featureslayer = layers.Conv1D(64, 3, activation='relu')(featureslayer)\n",
    "featureslayer = layers.Flatten()(featureslayer)\n"
   ]
  },
  {
   "attachments": {},
   "cell_type": "markdown",
   "metadata": {},
   "source": [
    "#### Combined Layers"
   ]
  },
  {
   "cell_type": "code",
   "execution_count": 52,
   "metadata": {},
   "outputs": [
    {
     "name": "stdout",
     "output_type": "stream",
     "text": [
      "Model: \"model_4\"\n",
      "__________________________________________________________________________________________________\n",
      " Layer (type)                Output Shape                 Param #   Connected to                  \n",
      "==================================================================================================\n",
      " mel_spectogram_input (Inpu  [(None, 128, 321, 1)]        0         []                            \n",
      " tLayer)                                                                                          \n",
      "                                                                                                  \n",
      " features_1d (InputLayer)    [(None, 321, 4)]             0         []                            \n",
      "                                                                                                  \n",
      " conv2d_19 (Conv2D)          (None, 126, 319, 64)         640       ['mel_spectogram_input[0][0]']\n",
      "                                                                                                  \n",
      " conv1d_9 (Conv1D)           (None, 319, 32)              416       ['features_1d[0][0]']         \n",
      "                                                                                                  \n",
      " max_pooling2d_16 (MaxPooli  (None, 63, 159, 64)          0         ['conv2d_19[0][0]']           \n",
      " ng2D)                                                                                            \n",
      "                                                                                                  \n",
      " max_pooling1d_6 (MaxPoolin  (None, 159, 32)              0         ['conv1d_9[0][0]']            \n",
      " g1D)                                                                                             \n",
      "                                                                                                  \n",
      " dropout_28 (Dropout)        (None, 63, 159, 64)          0         ['max_pooling2d_16[0][0]']    \n",
      "                                                                                                  \n",
      " conv1d_10 (Conv1D)          (None, 157, 64)              6208      ['max_pooling1d_6[0][0]']     \n",
      "                                                                                                  \n",
      " conv2d_20 (Conv2D)          (None, 61, 157, 32)          18464     ['dropout_28[0][0]']          \n",
      "                                                                                                  \n",
      " max_pooling1d_7 (MaxPoolin  (None, 78, 64)               0         ['conv1d_10[0][0]']           \n",
      " g1D)                                                                                             \n",
      "                                                                                                  \n",
      " max_pooling2d_17 (MaxPooli  (None, 30, 78, 32)           0         ['conv2d_20[0][0]']           \n",
      " ng2D)                                                                                            \n",
      "                                                                                                  \n",
      " dropout_31 (Dropout)        (None, 78, 64)               0         ['max_pooling1d_7[0][0]']     \n",
      "                                                                                                  \n",
      " dropout_29 (Dropout)        (None, 30, 78, 32)           0         ['max_pooling2d_17[0][0]']    \n",
      "                                                                                                  \n",
      " conv1d_11 (Conv1D)          (None, 76, 64)               12352     ['dropout_31[0][0]']          \n",
      "                                                                                                  \n",
      " flatten_13 (Flatten)        (None, 74880)                0         ['dropout_29[0][0]']          \n",
      "                                                                                                  \n",
      " flatten_15 (Flatten)        (None, 4864)                 0         ['conv1d_11[0][0]']           \n",
      "                                                                                                  \n",
      " concatenate_4 (Concatenate  (None, 79744)                0         ['flatten_13[0][0]',          \n",
      " )                                                                   'flatten_15[0][0]']          \n",
      "                                                                                                  \n",
      " dense_16 (Dense)            (None, 128)                  1020736   ['concatenate_4[0][0]']       \n",
      "                                                          0                                       \n",
      "                                                                                                  \n",
      " dropout_32 (Dropout)        (None, 128)                  0         ['dense_16[0][0]']            \n",
      "                                                                                                  \n",
      " dense_17 (Dense)            (None, 64)                   8256      ['dropout_32[0][0]']          \n",
      "                                                                                                  \n",
      " dropout_33 (Dropout)        (None, 64)                   0         ['dense_17[0][0]']            \n",
      "                                                                                                  \n",
      " dense_18 (Dense)            (None, 32)                   2080      ['dropout_33[0][0]']          \n",
      "                                                                                                  \n",
      " dropout_34 (Dropout)        (None, 32)                   0         ['dense_18[0][0]']            \n",
      "                                                                                                  \n",
      " dense_19 (Dense)            (None, 10)                   330       ['dropout_34[0][0]']          \n",
      "                                                                                                  \n",
      "==================================================================================================\n",
      "Total params: 10256106 (39.12 MB)\n",
      "Trainable params: 10256106 (39.12 MB)\n",
      "Non-trainable params: 0 (0.00 Byte)\n",
      "__________________________________________________________________________________________________\n"
     ]
    }
   ],
   "source": [
    "# combined = layers.concatenate([chromalayer, fourierlayer, mellayer, featureslayer])\n",
    "combined = layers.concatenate([mellayer, featureslayer])\n",
    "\n",
    "combined = layers.Dense(128, kernel_regularizer = regularizers.l2(0.01), activation='relu')(combined)\n",
    "combined = layers.Dropout(0.2)(combined)\n",
    "combined = layers.Dense(64, kernel_regularizer = regularizers.l2(0.01), activation='relu')(combined)\n",
    "combined = layers.Dropout(0.2)(combined)\n",
    "combined = layers.Dense(32, kernel_regularizer = regularizers.l2(0.01), activation='relu')(combined)\n",
    "combined = layers.Dropout(0.2)(combined)\n",
    "combined = layers.Dense(10, kernel_regularizer = regularizers.l2(0.01), activation='softmax')(combined)\n",
    "\n",
    "# model = keras.Model(inputs=[chromagram_input, mel_spectogram_input, fourier_tempogram, features_1d], outputs=combined)\n",
    "model = keras.Model(inputs=[mel_spectogram_input, features_1d], outputs=combined)\n",
    "\n",
    "\n",
    "model.summary()"
   ]
  },
  {
   "cell_type": "code",
   "execution_count": 53,
   "metadata": {},
   "outputs": [],
   "source": [
    "keras.utils.plot_model(model, 'multi_input_and_output_model.png', show_shapes=True)"
   ]
  },
  {
   "attachments": {},
   "cell_type": "markdown",
   "metadata": {},
   "source": [
    "### Importing the Data"
   ]
  },
  {
   "cell_type": "code",
   "execution_count": null,
   "metadata": {},
   "outputs": [],
   "source": [
    "import pickle\n",
    "\n",
    "def load_pkl(path):\n",
    "    to_return = None\n",
    "    with open(path, \"rb\") as loaded_data:\n",
    "        to_return = pickle.load(loaded_data)\n",
    "    loaded_data.close()\n",
    "    return to_return\n"
   ]
  },
  {
   "attachments": {},
   "cell_type": "markdown",
   "metadata": {},
   "source": [
    "## Training the Model in a 10 Fold Cross-Validation"
   ]
  },
  {
   "cell_type": "code",
   "execution_count": null,
   "metadata": {},
   "outputs": [],
   "source": [
    "fold = 1 ################# MUDAR AQUI #################\n",
    "\n",
    "def reshape_data(traindata):\n",
    "    # train_chroma = np.asarray(tuple(traindata[\"chromagram\"].to_list())).astype(np.float32)\n",
    "    train_mel = np.asarray(tuple(traindata[\"mel_spectogram\"].to_list())).astype(np.float32)\n",
    "    # train_fourier = np.asarray(tuple(traindata[\"fourier_tempogram\"].to_list())).astype(np.float32)\n",
    "    \n",
    "    a = np.asarray(tuple(traindata[\"spectral_centroid\"].to_list())).astype(np.float32)\n",
    "    b = np.asarray(tuple(traindata[\"spectral_bandwidth\"].to_list())).astype(np.float32)\n",
    "    c = np.asarray(tuple(traindata[\"spectral_flatness\"].to_list())).astype(np.float32)\n",
    "    d = np.asarray(tuple(traindata[\"spectral_rolloff\"].to_list())).astype(np.float32)\n",
    "\n",
    "    train_1d = np.stack([a,b,c,d], axis=-1)\n",
    "    print(train_1d.shape)\n",
    "    train_1d = train_1d.reshape(-1, 321, 4)\n",
    "\n",
    "    # train_chroma = np.array([np.array(val) for val in train_chroma])\n",
    "    train_mel = np.array([np.array(val) for val in train_mel])\n",
    "    #train_fourier = np.array([np.array(val) for val in train_fourier])\n",
    "\n",
    "    # return train_chroma, train_mel, train_fourier, train_1d\n",
    "    return train_mel, train_1d"
   ]
  },
  {
   "cell_type": "code",
   "execution_count": null,
   "metadata": {},
   "outputs": [],
   "source": [
    "def train_val_test_split(test_fold):\n",
    "    test_df = load_pkl(f\"assets/fold{test_fold}_df.pkl\")\n",
    "    test_df, val_df = train_test_split(test_df, test_size=0.5, random_state=42)\n",
    "    train_df = pd.DataFrame(columns=test_df.columns)\n",
    "    print(test_df.columns)\n",
    "    print(train_df.columns)\n",
    "    print(val_df.columns)\n",
    "    for i in range(1, 10+1):\n",
    "        if i == test_fold: continue\n",
    "        fold_df = load_pkl(f\"assets/fold{i}_df.pkl\")\n",
    "        train_df = pd.concat([train_df, fold_df], axis=0, join='outer', ignore_index=True)\n",
    "        del fold_df\n",
    "    X_train, y_train = train_df.drop(columns=['slice_file_name','classID','chromagram','fourier_tempogram']), train_df['classID']\n",
    "    X_val, y_val = val_df.drop(columns=['slice_file_name','classID','chromagram','fourier_tempogram']), val_df['classID']\n",
    "    X_test, y_test = test_df.drop(columns=['slice_file_name','classID','chromagram','fourier_tempogram']), test_df['classID']\n",
    "    del test_df\n",
    "    del train_df\n",
    "    del val_df\n",
    "    return X_train, y_train, X_val, y_val, X_test, y_test"
   ]
  },
  {
   "cell_type": "code",
   "execution_count": null,
   "metadata": {},
   "outputs": [
    {
     "name": "stdout",
     "output_type": "stream",
     "text": [
      "Index(['slice_file_name', 'chromagram', 'mel_spectogram', 'fourier_tempogram',\n",
      "       'spectral_centroid', 'spectral_bandwidth', 'spectral_flatness',\n",
      "       'spectral_rolloff', 'classID'],\n",
      "      dtype='object')\n",
      "Index(['slice_file_name', 'chromagram', 'mel_spectogram', 'fourier_tempogram',\n",
      "       'spectral_centroid', 'spectral_bandwidth', 'spectral_flatness',\n",
      "       'spectral_rolloff', 'classID'],\n",
      "      dtype='object')\n",
      "Index(['slice_file_name', 'chromagram', 'mel_spectogram', 'fourier_tempogram',\n",
      "       'spectral_centroid', 'spectral_bandwidth', 'spectral_flatness',\n",
      "       'spectral_rolloff', 'classID'],\n",
      "      dtype='object')\n"
     ]
    }
   ],
   "source": [
    "X_train, y_train, X_val, y_val, X_test, y_test = train_val_test_split(fold) \n",
    "\n",
    "y_val = np.asarray(y_val.to_list()).astype(np.float32)\n",
    "y_train = np.asarray(y_train.to_list()).astype(np.float32)\n",
    "y_test = np.asarray(y_test.to_list()).astype(np.float32)"
   ]
  },
  {
   "cell_type": "code",
   "execution_count": null,
   "metadata": {},
   "outputs": [
    {
     "name": "stdout",
     "output_type": "stream",
     "text": [
      "(7859, 1, 321, 4)\n",
      "(437, 1, 321, 4)\n",
      "(436, 1, 321, 4)\n"
     ]
    }
   ],
   "source": [
    "# X_train_chroma, X_train_mel, X_train_fourier, X_train_1d = reshape_data(X_train)\n",
    "# X_val_chroma,X_val_mel, X_val_fourier, X_val_1d = reshape_data(X_val)\n",
    "# X_test_chroma,X_test_mel, X_test_fourier, X_test_1d = reshape_data(X_test)\n",
    "\n",
    "X_train_mel, X_train_1d = reshape_data(X_train)\n",
    "X_val_mel, X_val_1d = reshape_data(X_val)\n",
    "X_test_mel, X_test_1d = reshape_data(X_test)"
   ]
  },
  {
   "attachments": {},
   "cell_type": "markdown",
   "metadata": {},
   "source": [
    "## Model Compilation and Training"
   ]
  },
  {
   "cell_type": "code",
   "execution_count": null,
   "metadata": {},
   "outputs": [
    {
     "name": "stdout",
     "output_type": "stream",
     "text": [
      "Epoch 1/25\n",
      "246/246 [==============================] - 151s 606ms/step - loss: 0.4845 - accuracy: 0.8506 - val_loss: 10.5051 - val_accuracy: 0.2380\n",
      "Epoch 2/25\n",
      "246/246 [==============================] - 148s 601ms/step - loss: 0.4298 - accuracy: 0.8686 - val_loss: 7.7232 - val_accuracy: 0.2723\n",
      "Epoch 3/25\n",
      "246/246 [==============================] - 147s 598ms/step - loss: 0.3824 - accuracy: 0.8818 - val_loss: 8.8148 - val_accuracy: 0.2540\n",
      "Epoch 4/25\n",
      "246/246 [==============================] - 145s 590ms/step - loss: 0.3618 - accuracy: 0.8916 - val_loss: 6.5328 - val_accuracy: 0.2769\n",
      "Epoch 5/25\n",
      "246/246 [==============================] - 152s 618ms/step - loss: 0.3258 - accuracy: 0.9065 - val_loss: 5.1693 - val_accuracy: 0.2449\n",
      "Epoch 6/25\n",
      " 46/246 [====>.........................] - ETA: 2:02 - loss: 0.3026 - accuracy: 0.9056"
     ]
    },
    {
     "ename": "KeyboardInterrupt",
     "evalue": "",
     "output_type": "error",
     "traceback": [
      "\u001b[1;31m---------------------------------------------------------------------------\u001b[0m",
      "\u001b[1;31mKeyboardInterrupt\u001b[0m                         Traceback (most recent call last)",
      "\u001b[1;32mc:\\Users\\pedro\\Documents\\Code\\ML2-Project\\allegedCnn.ipynb Cell 24\u001b[0m in \u001b[0;36m<cell line: 7>\u001b[1;34m()\u001b[0m\n\u001b[0;32m      <a href='vscode-notebook-cell:/c%3A/Users/pedro/Documents/Code/ML2-Project/allegedCnn.ipynb#X31sZmlsZQ%3D%3D?line=0'>1</a>\u001b[0m model\u001b[39m.\u001b[39mcompile(\n\u001b[0;32m      <a href='vscode-notebook-cell:/c%3A/Users/pedro/Documents/Code/ML2-Project/allegedCnn.ipynb#X31sZmlsZQ%3D%3D?line=1'>2</a>\u001b[0m     optimizer\u001b[39m=\u001b[39m\u001b[39m'\u001b[39m\u001b[39madam\u001b[39m\u001b[39m'\u001b[39m,\n\u001b[0;32m      <a href='vscode-notebook-cell:/c%3A/Users/pedro/Documents/Code/ML2-Project/allegedCnn.ipynb#X31sZmlsZQ%3D%3D?line=2'>3</a>\u001b[0m     loss\u001b[39m=\u001b[39m\u001b[39m'\u001b[39m\u001b[39mcategorical_crossentropy\u001b[39m\u001b[39m'\u001b[39m,\n\u001b[0;32m      <a href='vscode-notebook-cell:/c%3A/Users/pedro/Documents/Code/ML2-Project/allegedCnn.ipynb#X31sZmlsZQ%3D%3D?line=3'>4</a>\u001b[0m     metrics\u001b[39m=\u001b[39m[\u001b[39m'\u001b[39m\u001b[39maccuracy\u001b[39m\u001b[39m'\u001b[39m]\n\u001b[0;32m      <a href='vscode-notebook-cell:/c%3A/Users/pedro/Documents/Code/ML2-Project/allegedCnn.ipynb#X31sZmlsZQ%3D%3D?line=4'>5</a>\u001b[0m     )\n\u001b[1;32m----> <a href='vscode-notebook-cell:/c%3A/Users/pedro/Documents/Code/ML2-Project/allegedCnn.ipynb#X31sZmlsZQ%3D%3D?line=6'>7</a>\u001b[0m a \u001b[39m=\u001b[39m model\u001b[39m.\u001b[39;49mfit(\n\u001b[0;32m      <a href='vscode-notebook-cell:/c%3A/Users/pedro/Documents/Code/ML2-Project/allegedCnn.ipynb#X31sZmlsZQ%3D%3D?line=7'>8</a>\u001b[0m     {\u001b[39m'\u001b[39;49m\u001b[39mmel_spectogram_input\u001b[39;49m\u001b[39m'\u001b[39;49m: X_train_mel, \u001b[39m'\u001b[39;49m\u001b[39mfeatures_1d\u001b[39;49m\u001b[39m'\u001b[39;49m: X_train_1d},\n\u001b[0;32m      <a href='vscode-notebook-cell:/c%3A/Users/pedro/Documents/Code/ML2-Project/allegedCnn.ipynb#X31sZmlsZQ%3D%3D?line=8'>9</a>\u001b[0m     validation_data\u001b[39m=\u001b[39;49m([X_val_mel, X_val_1d], y_val),\n\u001b[0;32m     <a href='vscode-notebook-cell:/c%3A/Users/pedro/Documents/Code/ML2-Project/allegedCnn.ipynb#X31sZmlsZQ%3D%3D?line=9'>10</a>\u001b[0m     epochs\u001b[39m=\u001b[39;49m\u001b[39m25\u001b[39;49m,\n\u001b[0;32m     <a href='vscode-notebook-cell:/c%3A/Users/pedro/Documents/Code/ML2-Project/allegedCnn.ipynb#X31sZmlsZQ%3D%3D?line=10'>11</a>\u001b[0m     y \u001b[39m=\u001b[39;49m y_train\n\u001b[0;32m     <a href='vscode-notebook-cell:/c%3A/Users/pedro/Documents/Code/ML2-Project/allegedCnn.ipynb#X31sZmlsZQ%3D%3D?line=11'>12</a>\u001b[0m )\n",
      "File \u001b[1;32m~\\AppData\\Local\\Packages\\PythonSoftwareFoundation.Python.3.9_qbz5n2kfra8p0\\LocalCache\\local-packages\\Python39\\site-packages\\keras\\src\\utils\\traceback_utils.py:65\u001b[0m, in \u001b[0;36mfilter_traceback.<locals>.error_handler\u001b[1;34m(*args, **kwargs)\u001b[0m\n\u001b[0;32m     63\u001b[0m filtered_tb \u001b[39m=\u001b[39m \u001b[39mNone\u001b[39;00m\n\u001b[0;32m     64\u001b[0m \u001b[39mtry\u001b[39;00m:\n\u001b[1;32m---> 65\u001b[0m     \u001b[39mreturn\u001b[39;00m fn(\u001b[39m*\u001b[39margs, \u001b[39m*\u001b[39m\u001b[39m*\u001b[39mkwargs)\n\u001b[0;32m     66\u001b[0m \u001b[39mexcept\u001b[39;00m \u001b[39mException\u001b[39;00m \u001b[39mas\u001b[39;00m e:\n\u001b[0;32m     67\u001b[0m     filtered_tb \u001b[39m=\u001b[39m _process_traceback_frames(e\u001b[39m.\u001b[39m__traceback__)\n",
      "File \u001b[1;32m~\\AppData\\Local\\Packages\\PythonSoftwareFoundation.Python.3.9_qbz5n2kfra8p0\\LocalCache\\local-packages\\Python39\\site-packages\\keras\\src\\engine\\training.py:1807\u001b[0m, in \u001b[0;36mModel.fit\u001b[1;34m(self, x, y, batch_size, epochs, verbose, callbacks, validation_split, validation_data, shuffle, class_weight, sample_weight, initial_epoch, steps_per_epoch, validation_steps, validation_batch_size, validation_freq, max_queue_size, workers, use_multiprocessing)\u001b[0m\n\u001b[0;32m   1799\u001b[0m \u001b[39mwith\u001b[39;00m tf\u001b[39m.\u001b[39mprofiler\u001b[39m.\u001b[39mexperimental\u001b[39m.\u001b[39mTrace(\n\u001b[0;32m   1800\u001b[0m     \u001b[39m\"\u001b[39m\u001b[39mtrain\u001b[39m\u001b[39m\"\u001b[39m,\n\u001b[0;32m   1801\u001b[0m     epoch_num\u001b[39m=\u001b[39mepoch,\n\u001b[1;32m   (...)\u001b[0m\n\u001b[0;32m   1804\u001b[0m     _r\u001b[39m=\u001b[39m\u001b[39m1\u001b[39m,\n\u001b[0;32m   1805\u001b[0m ):\n\u001b[0;32m   1806\u001b[0m     callbacks\u001b[39m.\u001b[39mon_train_batch_begin(step)\n\u001b[1;32m-> 1807\u001b[0m     tmp_logs \u001b[39m=\u001b[39m \u001b[39mself\u001b[39;49m\u001b[39m.\u001b[39;49mtrain_function(iterator)\n\u001b[0;32m   1808\u001b[0m     \u001b[39mif\u001b[39;00m data_handler\u001b[39m.\u001b[39mshould_sync:\n\u001b[0;32m   1809\u001b[0m         context\u001b[39m.\u001b[39masync_wait()\n",
      "File \u001b[1;32m~\\AppData\\Local\\Packages\\PythonSoftwareFoundation.Python.3.9_qbz5n2kfra8p0\\LocalCache\\local-packages\\Python39\\site-packages\\tensorflow\\python\\util\\traceback_utils.py:150\u001b[0m, in \u001b[0;36mfilter_traceback.<locals>.error_handler\u001b[1;34m(*args, **kwargs)\u001b[0m\n\u001b[0;32m    148\u001b[0m filtered_tb \u001b[39m=\u001b[39m \u001b[39mNone\u001b[39;00m\n\u001b[0;32m    149\u001b[0m \u001b[39mtry\u001b[39;00m:\n\u001b[1;32m--> 150\u001b[0m   \u001b[39mreturn\u001b[39;00m fn(\u001b[39m*\u001b[39margs, \u001b[39m*\u001b[39m\u001b[39m*\u001b[39mkwargs)\n\u001b[0;32m    151\u001b[0m \u001b[39mexcept\u001b[39;00m \u001b[39mException\u001b[39;00m \u001b[39mas\u001b[39;00m e:\n\u001b[0;32m    152\u001b[0m   filtered_tb \u001b[39m=\u001b[39m _process_traceback_frames(e\u001b[39m.\u001b[39m__traceback__)\n",
      "File \u001b[1;32m~\\AppData\\Local\\Packages\\PythonSoftwareFoundation.Python.3.9_qbz5n2kfra8p0\\LocalCache\\local-packages\\Python39\\site-packages\\tensorflow\\python\\eager\\polymorphic_function\\polymorphic_function.py:832\u001b[0m, in \u001b[0;36mFunction.__call__\u001b[1;34m(self, *args, **kwds)\u001b[0m\n\u001b[0;32m    829\u001b[0m compiler \u001b[39m=\u001b[39m \u001b[39m\"\u001b[39m\u001b[39mxla\u001b[39m\u001b[39m\"\u001b[39m \u001b[39mif\u001b[39;00m \u001b[39mself\u001b[39m\u001b[39m.\u001b[39m_jit_compile \u001b[39melse\u001b[39;00m \u001b[39m\"\u001b[39m\u001b[39mnonXla\u001b[39m\u001b[39m\"\u001b[39m\n\u001b[0;32m    831\u001b[0m \u001b[39mwith\u001b[39;00m OptionalXlaContext(\u001b[39mself\u001b[39m\u001b[39m.\u001b[39m_jit_compile):\n\u001b[1;32m--> 832\u001b[0m   result \u001b[39m=\u001b[39m \u001b[39mself\u001b[39m\u001b[39m.\u001b[39m_call(\u001b[39m*\u001b[39margs, \u001b[39m*\u001b[39m\u001b[39m*\u001b[39mkwds)\n\u001b[0;32m    834\u001b[0m new_tracing_count \u001b[39m=\u001b[39m \u001b[39mself\u001b[39m\u001b[39m.\u001b[39mexperimental_get_tracing_count()\n\u001b[0;32m    835\u001b[0m without_tracing \u001b[39m=\u001b[39m (tracing_count \u001b[39m==\u001b[39m new_tracing_count)\n",
      "File \u001b[1;32m~\\AppData\\Local\\Packages\\PythonSoftwareFoundation.Python.3.9_qbz5n2kfra8p0\\LocalCache\\local-packages\\Python39\\site-packages\\tensorflow\\python\\eager\\polymorphic_function\\polymorphic_function.py:868\u001b[0m, in \u001b[0;36mFunction._call\u001b[1;34m(self, *args, **kwds)\u001b[0m\n\u001b[0;32m    865\u001b[0m   \u001b[39mself\u001b[39m\u001b[39m.\u001b[39m_lock\u001b[39m.\u001b[39mrelease()\n\u001b[0;32m    866\u001b[0m   \u001b[39m# In this case we have created variables on the first call, so we run the\u001b[39;00m\n\u001b[0;32m    867\u001b[0m   \u001b[39m# defunned version which is guaranteed to never create variables.\u001b[39;00m\n\u001b[1;32m--> 868\u001b[0m   \u001b[39mreturn\u001b[39;00m tracing_compilation\u001b[39m.\u001b[39;49mcall_function(\n\u001b[0;32m    869\u001b[0m       args, kwds, \u001b[39mself\u001b[39;49m\u001b[39m.\u001b[39;49m_no_variable_creation_config\n\u001b[0;32m    870\u001b[0m   )\n\u001b[0;32m    871\u001b[0m \u001b[39melif\u001b[39;00m \u001b[39mself\u001b[39m\u001b[39m.\u001b[39m_variable_creation_config \u001b[39mis\u001b[39;00m \u001b[39mnot\u001b[39;00m \u001b[39mNone\u001b[39;00m:\n\u001b[0;32m    872\u001b[0m   \u001b[39m# Release the lock early so that multiple threads can perform the call\u001b[39;00m\n\u001b[0;32m    873\u001b[0m   \u001b[39m# in parallel.\u001b[39;00m\n\u001b[0;32m    874\u001b[0m   \u001b[39mself\u001b[39m\u001b[39m.\u001b[39m_lock\u001b[39m.\u001b[39mrelease()\n",
      "File \u001b[1;32m~\\AppData\\Local\\Packages\\PythonSoftwareFoundation.Python.3.9_qbz5n2kfra8p0\\LocalCache\\local-packages\\Python39\\site-packages\\tensorflow\\python\\eager\\polymorphic_function\\tracing_compilation.py:139\u001b[0m, in \u001b[0;36mcall_function\u001b[1;34m(args, kwargs, tracing_options)\u001b[0m\n\u001b[0;32m    137\u001b[0m bound_args \u001b[39m=\u001b[39m function\u001b[39m.\u001b[39mfunction_type\u001b[39m.\u001b[39mbind(\u001b[39m*\u001b[39margs, \u001b[39m*\u001b[39m\u001b[39m*\u001b[39mkwargs)\n\u001b[0;32m    138\u001b[0m flat_inputs \u001b[39m=\u001b[39m function\u001b[39m.\u001b[39mfunction_type\u001b[39m.\u001b[39munpack_inputs(bound_args)\n\u001b[1;32m--> 139\u001b[0m \u001b[39mreturn\u001b[39;00m function\u001b[39m.\u001b[39;49m_call_flat(  \u001b[39m# pylint: disable=protected-access\u001b[39;49;00m\n\u001b[0;32m    140\u001b[0m     flat_inputs, captured_inputs\u001b[39m=\u001b[39;49mfunction\u001b[39m.\u001b[39;49mcaptured_inputs\n\u001b[0;32m    141\u001b[0m )\n",
      "File \u001b[1;32m~\\AppData\\Local\\Packages\\PythonSoftwareFoundation.Python.3.9_qbz5n2kfra8p0\\LocalCache\\local-packages\\Python39\\site-packages\\tensorflow\\python\\eager\\polymorphic_function\\concrete_function.py:1323\u001b[0m, in \u001b[0;36mConcreteFunction._call_flat\u001b[1;34m(self, tensor_inputs, captured_inputs)\u001b[0m\n\u001b[0;32m   1319\u001b[0m possible_gradient_type \u001b[39m=\u001b[39m gradients_util\u001b[39m.\u001b[39mPossibleTapeGradientTypes(args)\n\u001b[0;32m   1320\u001b[0m \u001b[39mif\u001b[39;00m (possible_gradient_type \u001b[39m==\u001b[39m gradients_util\u001b[39m.\u001b[39mPOSSIBLE_GRADIENT_TYPES_NONE\n\u001b[0;32m   1321\u001b[0m     \u001b[39mand\u001b[39;00m executing_eagerly):\n\u001b[0;32m   1322\u001b[0m   \u001b[39m# No tape is watching; skip to running the function.\u001b[39;00m\n\u001b[1;32m-> 1323\u001b[0m   \u001b[39mreturn\u001b[39;00m \u001b[39mself\u001b[39;49m\u001b[39m.\u001b[39;49m_inference_function\u001b[39m.\u001b[39;49mcall_preflattened(args)\n\u001b[0;32m   1324\u001b[0m forward_backward \u001b[39m=\u001b[39m \u001b[39mself\u001b[39m\u001b[39m.\u001b[39m_select_forward_and_backward_functions(\n\u001b[0;32m   1325\u001b[0m     args,\n\u001b[0;32m   1326\u001b[0m     possible_gradient_type,\n\u001b[0;32m   1327\u001b[0m     executing_eagerly)\n\u001b[0;32m   1328\u001b[0m forward_function, args_with_tangents \u001b[39m=\u001b[39m forward_backward\u001b[39m.\u001b[39mforward()\n",
      "File \u001b[1;32m~\\AppData\\Local\\Packages\\PythonSoftwareFoundation.Python.3.9_qbz5n2kfra8p0\\LocalCache\\local-packages\\Python39\\site-packages\\tensorflow\\python\\eager\\polymorphic_function\\atomic_function.py:216\u001b[0m, in \u001b[0;36mAtomicFunction.call_preflattened\u001b[1;34m(self, args)\u001b[0m\n\u001b[0;32m    214\u001b[0m \u001b[39mdef\u001b[39;00m \u001b[39mcall_preflattened\u001b[39m(\u001b[39mself\u001b[39m, args: Sequence[core\u001b[39m.\u001b[39mTensor]) \u001b[39m-\u001b[39m\u001b[39m>\u001b[39m Any:\n\u001b[0;32m    215\u001b[0m   \u001b[39m\"\"\"Calls with flattened tensor inputs and returns the structured output.\"\"\"\u001b[39;00m\n\u001b[1;32m--> 216\u001b[0m   flat_outputs \u001b[39m=\u001b[39m \u001b[39mself\u001b[39;49m\u001b[39m.\u001b[39;49mcall_flat(\u001b[39m*\u001b[39;49margs)\n\u001b[0;32m    217\u001b[0m   \u001b[39mreturn\u001b[39;00m \u001b[39mself\u001b[39m\u001b[39m.\u001b[39mfunction_type\u001b[39m.\u001b[39mpack_output(flat_outputs)\n",
      "File \u001b[1;32m~\\AppData\\Local\\Packages\\PythonSoftwareFoundation.Python.3.9_qbz5n2kfra8p0\\LocalCache\\local-packages\\Python39\\site-packages\\tensorflow\\python\\eager\\polymorphic_function\\atomic_function.py:251\u001b[0m, in \u001b[0;36mAtomicFunction.call_flat\u001b[1;34m(self, *args)\u001b[0m\n\u001b[0;32m    249\u001b[0m \u001b[39mwith\u001b[39;00m record\u001b[39m.\u001b[39mstop_recording():\n\u001b[0;32m    250\u001b[0m   \u001b[39mif\u001b[39;00m \u001b[39mself\u001b[39m\u001b[39m.\u001b[39m_bound_context\u001b[39m.\u001b[39mexecuting_eagerly():\n\u001b[1;32m--> 251\u001b[0m     outputs \u001b[39m=\u001b[39m \u001b[39mself\u001b[39;49m\u001b[39m.\u001b[39;49m_bound_context\u001b[39m.\u001b[39;49mcall_function(\n\u001b[0;32m    252\u001b[0m         \u001b[39mself\u001b[39;49m\u001b[39m.\u001b[39;49mname,\n\u001b[0;32m    253\u001b[0m         \u001b[39mlist\u001b[39;49m(args),\n\u001b[0;32m    254\u001b[0m         \u001b[39mlen\u001b[39;49m(\u001b[39mself\u001b[39;49m\u001b[39m.\u001b[39;49mfunction_type\u001b[39m.\u001b[39;49mflat_outputs),\n\u001b[0;32m    255\u001b[0m     )\n\u001b[0;32m    256\u001b[0m   \u001b[39melse\u001b[39;00m:\n\u001b[0;32m    257\u001b[0m     outputs \u001b[39m=\u001b[39m make_call_op_in_graph(\n\u001b[0;32m    258\u001b[0m         \u001b[39mself\u001b[39m,\n\u001b[0;32m    259\u001b[0m         \u001b[39mlist\u001b[39m(args),\n\u001b[0;32m    260\u001b[0m         \u001b[39mself\u001b[39m\u001b[39m.\u001b[39m_bound_context\u001b[39m.\u001b[39mfunction_call_options\u001b[39m.\u001b[39mas_attrs(),\n\u001b[0;32m    261\u001b[0m     )\n",
      "File \u001b[1;32m~\\AppData\\Local\\Packages\\PythonSoftwareFoundation.Python.3.9_qbz5n2kfra8p0\\LocalCache\\local-packages\\Python39\\site-packages\\tensorflow\\python\\eager\\context.py:1486\u001b[0m, in \u001b[0;36mContext.call_function\u001b[1;34m(self, name, tensor_inputs, num_outputs)\u001b[0m\n\u001b[0;32m   1484\u001b[0m cancellation_context \u001b[39m=\u001b[39m cancellation\u001b[39m.\u001b[39mcontext()\n\u001b[0;32m   1485\u001b[0m \u001b[39mif\u001b[39;00m cancellation_context \u001b[39mis\u001b[39;00m \u001b[39mNone\u001b[39;00m:\n\u001b[1;32m-> 1486\u001b[0m   outputs \u001b[39m=\u001b[39m execute\u001b[39m.\u001b[39;49mexecute(\n\u001b[0;32m   1487\u001b[0m       name\u001b[39m.\u001b[39;49mdecode(\u001b[39m\"\u001b[39;49m\u001b[39mutf-8\u001b[39;49m\u001b[39m\"\u001b[39;49m),\n\u001b[0;32m   1488\u001b[0m       num_outputs\u001b[39m=\u001b[39;49mnum_outputs,\n\u001b[0;32m   1489\u001b[0m       inputs\u001b[39m=\u001b[39;49mtensor_inputs,\n\u001b[0;32m   1490\u001b[0m       attrs\u001b[39m=\u001b[39;49mattrs,\n\u001b[0;32m   1491\u001b[0m       ctx\u001b[39m=\u001b[39;49m\u001b[39mself\u001b[39;49m,\n\u001b[0;32m   1492\u001b[0m   )\n\u001b[0;32m   1493\u001b[0m \u001b[39melse\u001b[39;00m:\n\u001b[0;32m   1494\u001b[0m   outputs \u001b[39m=\u001b[39m execute\u001b[39m.\u001b[39mexecute_with_cancellation(\n\u001b[0;32m   1495\u001b[0m       name\u001b[39m.\u001b[39mdecode(\u001b[39m\"\u001b[39m\u001b[39mutf-8\u001b[39m\u001b[39m\"\u001b[39m),\n\u001b[0;32m   1496\u001b[0m       num_outputs\u001b[39m=\u001b[39mnum_outputs,\n\u001b[1;32m   (...)\u001b[0m\n\u001b[0;32m   1500\u001b[0m       cancellation_manager\u001b[39m=\u001b[39mcancellation_context,\n\u001b[0;32m   1501\u001b[0m   )\n",
      "File \u001b[1;32m~\\AppData\\Local\\Packages\\PythonSoftwareFoundation.Python.3.9_qbz5n2kfra8p0\\LocalCache\\local-packages\\Python39\\site-packages\\tensorflow\\python\\eager\\execute.py:53\u001b[0m, in \u001b[0;36mquick_execute\u001b[1;34m(op_name, num_outputs, inputs, attrs, ctx, name)\u001b[0m\n\u001b[0;32m     51\u001b[0m \u001b[39mtry\u001b[39;00m:\n\u001b[0;32m     52\u001b[0m   ctx\u001b[39m.\u001b[39mensure_initialized()\n\u001b[1;32m---> 53\u001b[0m   tensors \u001b[39m=\u001b[39m pywrap_tfe\u001b[39m.\u001b[39;49mTFE_Py_Execute(ctx\u001b[39m.\u001b[39;49m_handle, device_name, op_name,\n\u001b[0;32m     54\u001b[0m                                       inputs, attrs, num_outputs)\n\u001b[0;32m     55\u001b[0m \u001b[39mexcept\u001b[39;00m core\u001b[39m.\u001b[39m_NotOkStatusException \u001b[39mas\u001b[39;00m e:\n\u001b[0;32m     56\u001b[0m   \u001b[39mif\u001b[39;00m name \u001b[39mis\u001b[39;00m \u001b[39mnot\u001b[39;00m \u001b[39mNone\u001b[39;00m:\n",
      "\u001b[1;31mKeyboardInterrupt\u001b[0m: "
     ]
    }
   ],
   "source": [
    "model.compile(\n",
    "    optimizer='adam',\n",
    "    loss='categorical_crossentropy',\n",
    "    metrics=['accuracy']\n",
    "    )\n",
    "\n",
    "a = model.fit(\n",
    "    {'mel_spectogram_input': X_train_mel, 'features_1d': X_train_1d},\n",
    "    validation_data=([X_val_mel, X_val_1d], y_val),\n",
    "    epochs=25,\n",
    "    y = y_train\n",
    ")"
   ]
  },
  {
   "attachments": {},
   "cell_type": "markdown",
   "metadata": {},
   "source": [
    "## Saving the model and their metrics"
   ]
  },
  {
   "cell_type": "code",
   "execution_count": null,
   "metadata": {},
   "outputs": [],
   "source": [
    "from sklearn.metrics import confusion_matrix\n",
    "\n",
    "def save_pkl(data, path):\n",
    "    with open(path, \"wb\") as saved_data:\n",
    "        pickle.dump(data, saved_data)\n",
    "    saved_data.close()\n",
    "\n",
    "# evaluation = model.evaluate(x={'features_1d': X_test_1d, 'chromagram': X_test_chroma, 'mel_spectogram_input': X_test_mel, 'fourier_tempogram': X_test_fourier}, y=y_test)\n",
    "# y_pred = model.predict(x={'features_1d': X_test_1d, 'chromagram': X_test_mel, 'mel_spectogram_input': X_test_mel, 'fourier_tempogram': X_test_fourier})\n",
    "\n",
    "evaluation = model.evaluate(x={'features_1d': X_test_1d, 'mel_spectogram_input': X_test_mel}, y=y_test)\n",
    "y_pred = model.predict(x={'features_1d': X_test_1d, 'mel_spectogram_input': X_test_mel})\n",
    "\n",
    "metrics = {'loss': evaluation[0], 'accuracy': evaluation[1], 'confusion_matrix': confusion_matrix(y_test, y_pred), 'history': model, 'history_dict': a.history}\n",
    "save_pkl(metrics, f\"kfold_metrics/fold{fold}.pkl\")\n",
    "model.save(f\"kfold_metrics/model_fold{fold}.keras\", save_format=\"keras\")"
   ]
  },
  {
   "attachments": {},
   "cell_type": "markdown",
   "metadata": {},
   "source": [
    "## Model Analysis"
   ]
  },
  {
   "cell_type": "code",
   "execution_count": null,
   "metadata": {},
   "outputs": [
    {
     "data": {
      "image/png": "[encoded data removed]",
      "text/plain": [
       "<Figure size 1500x500 with 2 Axes>"
      ]
     },
     "metadata": {},
     "output_type": "display_data"
    }
   ],
   "source": [
    "#Adapted from Deep Learning with Python by Francois Chollet, 2018\n",
    "import matplotlib.pyplot as plt\n",
    "\n",
    "history_dict = a.history\n",
    "\n",
    "loss_values=history_dict['loss']\n",
    "acc_values=history_dict['accuracy']\n",
    "val_loss_values = history_dict['val_loss']\n",
    "val_acc_values = history_dict['val_accuracy']\n",
    "\n",
    "epochs = range(1,26)\n",
    "\n",
    "fig,(ax1,ax2)=plt.subplots(1,2,figsize=(15,5))\n",
    "\n",
    "ax1.plot(epochs,loss_values,'co',label='Training Loss')\n",
    "ax1.plot(epochs,val_loss_values,'m', label='Validation Loss')\n",
    "ax1.set_title('Training and validation loss')\n",
    "ax1.set_xlabel('Epochs')\n",
    "ax1.set_ylabel('Loss')\n",
    "ax1.legend()\n",
    "\n",
    "ax2.plot(epochs,acc_values,'co', label='Training accuracy')\n",
    "ax2.plot(epochs,val_acc_values,'m', label='Validation accuracy')\n",
    "ax2.set_title('Training and validation accuracy')\n",
    "ax2.set_xlabel('Epochs')\n",
    "ax2.set_ylabel('Accuracy')\n",
    "ax2.legend()\n",
    "plt.show()"
   ]
  }
 ],
 "metadata": {
  "kernelspec": {
   "display_name": "Python 3",
   "language": "python",
   "name": "python3"
  },
  "language_info": {
   "codemirror_mode": {
    "name": "ipython",
    "version": 3
   },
   "file_extension": ".py",
   "mimetype": "text/x-python",
   "name": "python",
   "nbconvert_exporter": "python",
   "pygments_lexer": "ipython3",
   "version": "3.9.13"
  },
  "orig_nbformat": 4
 },
 "nbformat": 4,
 "nbformat_minor": 2
}
