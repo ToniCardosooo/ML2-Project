{
 "cells": [
  {
   "attachments": {},
   "cell_type": "markdown",
   "metadata": {},
   "source": [
    "# Hello this is a CNN\n",
    "I am doing it"
   ]
  },
  {
   "attachments": {},
   "cell_type": "markdown",
   "metadata": {},
   "source": [
    "## Structure\n",
    "\n",
    "We will have 2 separated convolutional networks, one for the 2D features and another to the 1D data, that will be flattened and concatenated into a MLP"
   ]
  },
  {
   "cell_type": "code",
   "execution_count": 44,
   "metadata": {},
   "outputs": [],
   "source": [
    "from keras import models, layers\n",
    "import tensorflow as tf\n",
    "from tensorflow import keras"
   ]
  },
  {
   "attachments": {},
   "cell_type": "markdown",
   "metadata": {},
   "source": [
    "### Model 1: 2D Features\n",
    "\n",
    "Features:\n",
    "- Spectrograms\n",
    "- Spectral Contrast"
   ]
  },
  {
   "cell_type": "code",
   "execution_count": 60,
   "metadata": {},
   "outputs": [],
   "source": [
    "num_rows = 40\n",
    "num_columns = 340\n",
    "num_channels = 1\n",
    "\n",
    "twodmodel = models.Sequential()\n",
    "twodmodel.add(layers.Conv2D(filters=64, kernel_size=2, input_shape=(num_rows, num_columns, num_channels), activation='relu'))\n",
    "twodmodel.add(layers.AveragePooling2D(pool_size=(2,2)))\n",
    "twodmodel.add(layers.Conv2D(filters=128, kernel_size=2, activation='relu'))\n",
    "twodmodel.add(layers.Dropout(0.2))\n",
    "\n",
    "twodmodel.compile(optimizer=tf.keras.optimizers.Adam(), loss=tf.keras.losses.SparseCategoricalCrossentropy(), metrics=[tf.keras.metrics.SparseCategoricalAccuracy()])"
   ]
  },
  {
   "cell_type": "code",
   "execution_count": 61,
   "metadata": {},
   "outputs": [
    {
     "name": "stdout",
     "output_type": "stream",
     "text": [
      "Model: \"sequential_36\"\n",
      "_________________________________________________________________\n",
      " Layer (type)                Output Shape              Param #   \n",
      "=================================================================\n",
      " conv2d_60 (Conv2D)          (None, 39, 339, 64)       320       \n",
      "                                                                 \n",
      " average_pooling2d_28 (Avera  (None, 19, 169, 64)      0         \n",
      " gePooling2D)                                                    \n",
      "                                                                 \n",
      " conv2d_61 (Conv2D)          (None, 18, 168, 128)      32896     \n",
      "                                                                 \n",
      " dropout (Dropout)           (None, 18, 168, 128)      0         \n",
      "                                                                 \n",
      "=================================================================\n",
      "Total params: 33,216\n",
      "Trainable params: 33,216\n",
      "Non-trainable params: 0\n",
      "_________________________________________________________________\n"
     ]
    }
   ],
   "source": [
    "twodmodel.summary()"
   ]
  }
 ],
 "metadata": {
  "kernelspec": {
   "display_name": "Python 3",
   "language": "python",
   "name": "python3"
  },
  "language_info": {
   "codemirror_mode": {
    "name": "ipython",
    "version": 3
   },
   "file_extension": ".py",
   "mimetype": "text/x-python",
   "name": "python",
   "nbconvert_exporter": "python",
   "pygments_lexer": "ipython3",
   "version": "3.9.13"
  },
  "orig_nbformat": 4
 },
 "nbformat": 4,
 "nbformat_minor": 2
}
