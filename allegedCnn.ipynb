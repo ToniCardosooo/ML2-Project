{
 "cells": [
  {
   "attachments": {},
   "cell_type": "markdown",
   "metadata": {},
   "source": [
    "# Hello this is a CNN\n",
    "I am doing it"
   ]
  },
  {
   "attachments": {},
   "cell_type": "markdown",
   "metadata": {},
   "source": [
    "## Structure\n",
    "\n",
    "We will have 2 separated convolutional networks, one for the 2D features and another to the 1D data, that will be flattened and concatenated into a MLP"
   ]
  },
  {
   "cell_type": "code",
   "execution_count": 1,
   "metadata": {},
   "outputs": [],
   "source": [
    "from keras import models, layers\n",
    "import tensorflow as tf\n",
    "from tensorflow import keras"
   ]
  },
  {
   "attachments": {},
   "cell_type": "markdown",
   "metadata": {},
   "source": [
    "### Model 1: 2D Features\n",
    "\n",
    "Features:\n",
    "- Spectrograms\n",
    "- Spectral Contrast"
   ]
  },
  {
   "cell_type": "code",
   "execution_count": 2,
   "metadata": {},
   "outputs": [
    {
     "name": "stdout",
     "output_type": "stream",
     "text": [
      "Model: \"model\"\n",
      "__________________________________________________________________________________________________\n",
      " Layer (type)                   Output Shape         Param #     Connected to                     \n",
      "==================================================================================================\n",
      " input_1 (InputLayer)           [(None, 40, 321, 1)  0           []                               \n",
      "                                ]                                                                 \n",
      "                                                                                                  \n",
      " conv2d (Conv2D)                (None, 38, 319, 32)  320         ['input_1[0][0]']                \n",
      "                                                                                                  \n",
      " input_2 (InputLayer)           [(None, 40, 1)]      0           []                               \n",
      "                                                                                                  \n",
      " max_pooling2d (MaxPooling2D)   (None, 19, 159, 32)  0           ['conv2d[0][0]']                 \n",
      "                                                                                                  \n",
      " conv1d (Conv1D)                (None, 38, 32)       128         ['input_2[0][0]']                \n",
      "                                                                                                  \n",
      " dropout (Dropout)              (None, 19, 159, 32)  0           ['max_pooling2d[0][0]']          \n",
      "                                                                                                  \n",
      " max_pooling1d (MaxPooling1D)   (None, 19, 32)       0           ['conv1d[0][0]']                 \n",
      "                                                                                                  \n",
      " conv2d_1 (Conv2D)              (None, 17, 157, 64)  18496       ['dropout[0][0]']                \n",
      "                                                                                                  \n",
      " dropout_2 (Dropout)            (None, 19, 32)       0           ['max_pooling1d[0][0]']          \n",
      "                                                                                                  \n",
      " max_pooling2d_1 (MaxPooling2D)  (None, 8, 78, 64)   0           ['conv2d_1[0][0]']               \n",
      "                                                                                                  \n",
      " conv1d_1 (Conv1D)              (None, 17, 64)       6208        ['dropout_2[0][0]']              \n",
      "                                                                                                  \n",
      " dropout_1 (Dropout)            (None, 8, 78, 64)    0           ['max_pooling2d_1[0][0]']        \n",
      "                                                                                                  \n",
      " max_pooling1d_1 (MaxPooling1D)  (None, 8, 64)       0           ['conv1d_1[0][0]']               \n",
      "                                                                                                  \n",
      " conv2d_2 (Conv2D)              (None, 6, 76, 64)    36928       ['dropout_1[0][0]']              \n",
      "                                                                                                  \n",
      " dropout_3 (Dropout)            (None, 8, 64)        0           ['max_pooling1d_1[0][0]']        \n",
      "                                                                                                  \n",
      " flatten (Flatten)              (None, 29184)        0           ['conv2d_2[0][0]']               \n",
      "                                                                                                  \n",
      " flatten_1 (Flatten)            (None, 512)          0           ['dropout_3[0][0]']              \n",
      "                                                                                                  \n",
      " concatenate (Concatenate)      (None, 29696)        0           ['flatten[0][0]',                \n",
      "                                                                  'flatten_1[0][0]']              \n",
      "                                                                                                  \n",
      " dense (Dense)                  (None, 64)           1900608     ['concatenate[0][0]']            \n",
      "                                                                                                  \n",
      " dropout_4 (Dropout)            (None, 64)           0           ['dense[0][0]']                  \n",
      "                                                                                                  \n",
      " dense_1 (Dense)                (None, 32)           2080        ['dropout_4[0][0]']              \n",
      "                                                                                                  \n",
      " dropout_5 (Dropout)            (None, 32)           0           ['dense_1[0][0]']                \n",
      "                                                                                                  \n",
      " dense_2 (Dense)                (None, 10)           330         ['dropout_5[0][0]']              \n",
      "                                                                                                  \n",
      "==================================================================================================\n",
      "Total params: 1,965,098\n",
      "Trainable params: 1,965,098\n",
      "Non-trainable params: 0\n",
      "__________________________________________________________________________________________________\n"
     ]
    }
   ],
   "source": [
    "twodshape = (40,321,1)\n",
    "\n",
    "twod_input = keras.Input(shape=twodshape)\n",
    "oned_input = keras.Input(shape=(40,1))\n",
    "\n",
    "twodmodel = layers.Conv2D(features = 32, (3,3), activation='relu')(twod_input)\n",
    "twodmodel = layers.MaxPooling2D((2,2))(twodmodel)\n",
    "twodmodel = layers.Dropout(0.2)(twodmodel)\n",
    "twodmodel = layers.Conv2D(64, (3,3), activation='relu')(twodmodel)\n",
    "twodmodel = layers.MaxPooling2D((2,2))(twodmodel)\n",
    "twodmodel = layers.Dropout(0.2)(twodmodel)\n",
    "twodmodel = layers.Conv2D(64, (3,3), activation='relu')(twodmodel)\n",
    "twodmodel = layers.Flatten()(twodmodel)\n",
    "\n",
    "onedmodel = layers.Conv1D(32, 3, activation='relu')(oned_input)\n",
    "onedmodel = layers.MaxPooling1D(2)(onedmodel)\n",
    "onedmodel = layers.Dropout(0.5)(onedmodel)\n",
    "onedmodel = layers.Conv1D(64, 3, activation='relu')(onedmodel)\n",
    "onedmodel = layers.MaxPooling1D(2)(onedmodel)\n",
    "onedmodel = layers.Dropout(0.5)(onedmodel)\n",
    "onedmodel = layers.Flatten()(onedmodel)\n",
    "\n",
    "combined = layers.concatenate([twodmodel, onedmodel])\n",
    "combined = layers.Dense(64, activation='relu')(combined)\n",
    "combined = layers.Dropout(0.5)(combined)\n",
    "combined = layers.Dense(32, activation='relu')(combined)\n",
    "combined = layers.Dropout(0.5)(combined)\n",
    "combined = layers.Dense(10, activation='softmax')(combined)\n",
    "\n",
    "model = keras.Model(inputs=[twod_input, oned_input], outputs=combined)\n",
    "\n",
    "model.summary()"
   ]
  }
 ],
 "metadata": {
  "kernelspec": {
   "display_name": "Python 3",
   "language": "python",
   "name": "python3"
  },
  "language_info": {
   "codemirror_mode": {
    "name": "ipython",
    "version": 3
   },
   "file_extension": ".py",
   "mimetype": "text/x-python",
   "name": "python",
   "nbconvert_exporter": "python",
   "pygments_lexer": "ipython3",
   "version": "3.9.13"
  },
  "orig_nbformat": 4
 },
 "nbformat": 4,
 "nbformat_minor": 2
}
