{
 "cells": [
  {
   "cell_type": "code",
   "execution_count": 2,
   "metadata": {},
   "outputs": [],
   "source": [
    "import pandas as pd\n",
    "import numpy as np\n",
    "import os\n",
    "import librosa\n",
    "import librosa.display\n",
    "\n",
    "import tensorflow as tf\n",
    "import keras\n",
    "from keras import layers\n",
    "\n",
    "import matplotlib.pyplot as plt\n",
    "from sklearn.model_selection import train_test_split\n",
    "from sklearn.preprocessing import normalize\n",
    "from sklearn.model_selection import train_test_split\n",
    "\n",
    "import warnings\n",
    "warnings.filterwarnings('ignore')"
   ]
  },
  {
   "cell_type": "code",
   "execution_count": 3,
   "metadata": {},
   "outputs": [
    {
     "data": {
      "text/html": [
       "<div>\n",
       "<style scoped>\n",
       "    .dataframe tbody tr th:only-of-type {\n",
       "        vertical-align: middle;\n",
       "    }\n",
       "\n",
       "    .dataframe tbody tr th {\n",
       "        vertical-align: top;\n",
       "    }\n",
       "\n",
       "    .dataframe thead th {\n",
       "        text-align: right;\n",
       "    }\n",
       "</style>\n",
       "<table border=\"1\" class=\"dataframe\">\n",
       "  <thead>\n",
       "    <tr style=\"text-align: right;\">\n",
       "      <th></th>\n",
       "      <th>slice_file_name</th>\n",
       "      <th>fsID</th>\n",
       "      <th>start</th>\n",
       "      <th>end</th>\n",
       "      <th>salience</th>\n",
       "      <th>fold</th>\n",
       "      <th>classID</th>\n",
       "      <th>class</th>\n",
       "    </tr>\n",
       "  </thead>\n",
       "  <tbody>\n",
       "    <tr>\n",
       "      <th>0</th>\n",
       "      <td>100032-3-0-0.wav</td>\n",
       "      <td>100032</td>\n",
       "      <td>0.0</td>\n",
       "      <td>0.317551</td>\n",
       "      <td>1</td>\n",
       "      <td>5</td>\n",
       "      <td>3</td>\n",
       "      <td>dog_bark</td>\n",
       "    </tr>\n",
       "    <tr>\n",
       "      <th>1</th>\n",
       "      <td>100263-2-0-117.wav</td>\n",
       "      <td>100263</td>\n",
       "      <td>58.5</td>\n",
       "      <td>62.500000</td>\n",
       "      <td>1</td>\n",
       "      <td>5</td>\n",
       "      <td>2</td>\n",
       "      <td>children_playing</td>\n",
       "    </tr>\n",
       "    <tr>\n",
       "      <th>2</th>\n",
       "      <td>100263-2-0-121.wav</td>\n",
       "      <td>100263</td>\n",
       "      <td>60.5</td>\n",
       "      <td>64.500000</td>\n",
       "      <td>1</td>\n",
       "      <td>5</td>\n",
       "      <td>2</td>\n",
       "      <td>children_playing</td>\n",
       "    </tr>\n",
       "    <tr>\n",
       "      <th>3</th>\n",
       "      <td>100263-2-0-126.wav</td>\n",
       "      <td>100263</td>\n",
       "      <td>63.0</td>\n",
       "      <td>67.000000</td>\n",
       "      <td>1</td>\n",
       "      <td>5</td>\n",
       "      <td>2</td>\n",
       "      <td>children_playing</td>\n",
       "    </tr>\n",
       "    <tr>\n",
       "      <th>4</th>\n",
       "      <td>100263-2-0-137.wav</td>\n",
       "      <td>100263</td>\n",
       "      <td>68.5</td>\n",
       "      <td>72.500000</td>\n",
       "      <td>1</td>\n",
       "      <td>5</td>\n",
       "      <td>2</td>\n",
       "      <td>children_playing</td>\n",
       "    </tr>\n",
       "  </tbody>\n",
       "</table>\n",
       "</div>"
      ],
      "text/plain": [
       "      slice_file_name    fsID  start        end  salience  fold  classID  \\\n",
       "0    100032-3-0-0.wav  100032    0.0   0.317551         1     5        3   \n",
       "1  100263-2-0-117.wav  100263   58.5  62.500000         1     5        2   \n",
       "2  100263-2-0-121.wav  100263   60.5  64.500000         1     5        2   \n",
       "3  100263-2-0-126.wav  100263   63.0  67.000000         1     5        2   \n",
       "4  100263-2-0-137.wav  100263   68.5  72.500000         1     5        2   \n",
       "\n",
       "              class  \n",
       "0          dog_bark  \n",
       "1  children_playing  \n",
       "2  children_playing  \n",
       "3  children_playing  \n",
       "4  children_playing  "
      ]
     },
     "execution_count": 3,
     "metadata": {},
     "output_type": "execute_result"
    }
   ],
   "source": [
    "df = pd.read_csv(r'D:\\L_IACD\\SoundClassification\\ML2-Project\\UrbanSound8K.csv')\n",
    "df.head()"
   ]
  },
  {
   "cell_type": "code",
   "execution_count": 4,
   "metadata": {},
   "outputs": [
    {
     "data": {
      "text/plain": [
       "<librosa.display.AdaptiveWaveplot at 0x25a7beadcf0>"
      ]
     },
     "execution_count": 4,
     "metadata": {},
     "output_type": "execute_result"
    },
    {
     "data": {
      "image/png": "[encoded data removed]",
      "text/plain": [
       "<Figure size 640x480 with 1 Axes>"
      ]
     },
     "metadata": {},
     "output_type": "display_data"
    }
   ],
   "source": [
    "sample_num = 1 #pick a file to display\n",
    "filename = df.slice_file_name[sample_num] #get the filename\n",
    "\n",
    "tstart = df.start[sample_num] #define the beginning time of the signal\n",
    "tend = df.end[sample_num] #define the end time of the signal\n",
    "\n",
    "#'D:\\L_IACD\\SoundClassification\\UrbanSound8K\\audio\\fold5\\100263-2-0-126.wav'\n",
    "\n",
    "path = '../UrbanSound8K/audio/fold' + str(df.fold[sample_num]) + '/' + str(filename)\n",
    "\n",
    "y, sr = librosa.load(path)\n",
    "librosa.display.waveshow(y,sr=sr, x_axis='time', color='purple', offset=0.0)"
   ]
  },
  {
   "cell_type": "code",
   "execution_count": 5,
   "metadata": {},
   "outputs": [
    {
     "data": {
      "image/png": "[encoded data removed]",
      "text/plain": [
       "<Figure size 2000x700 with 2 Axes>"
      ]
     },
     "metadata": {},
     "output_type": "display_data"
    }
   ],
   "source": [
    "hop_length = round(44100 * 0.0125)\n",
    "n_fft = 2**14 #number of samples \n",
    "hop_length = round(44100 * 0.0125)\n",
    "MFCCs = librosa.feature.mfcc(y = y, n_fft = n_fft, hop_length = hop_length, n_mfcc = 20)\n",
    "    \n",
    "fig, ax = plt.subplots(figsize = (20,7))\n",
    "librosa.display.specshow(MFCCs, sr=sr, cmap='cool', hop_length = hop_length)\n",
    "ax.set_xlabel('Time', fontsize = 15)\n",
    "ax.set_ylabel('Frequency', fontsize=15)\n",
    "ax.set_title('MFCC', size = 20)\n",
    "plt.colorbar()\n",
    "plt.show()"
   ]
  },
  {
   "cell_type": "code",
   "execution_count": 6,
   "metadata": {},
   "outputs": [],
   "source": [
    "def zero_padded_data_nparray(audios_path, duration_secs=4, target_sample_rate=44100, files_limit=-1, verbose=False):\n",
    "    files = librosa.util.find_files(audios_path)\n",
    "    data_array = []\n",
    "\n",
    "    for index, file in enumerate(files):\n",
    "        if files_limit != -1 and index >= files_limit: break\n",
    "        \n",
    "        if verbose:\n",
    "            print(f\"At audio {index+1}/{len(files)}\")\n",
    "             \n",
    "        signal, sample_rate = librosa.load(file, sr = None)\n",
    "        \n",
    "        # resample the sample rate to the target value of SR\n",
    "        signal = librosa.resample(signal, orig_sr=sample_rate, target_sr=target_sample_rate)\n",
    "        \n",
    "        # zero padding\n",
    "        if len(signal) < duration_secs*target_sample_rate:\n",
    "            signal = np.concatenate([\n",
    "                signal,\n",
    "                np.zeros(shape=(duration_secs*target_sample_rate-len(signal), ))\n",
    "            ])\n",
    "\n",
    "        path = file.split(\"\\\\\")\n",
    "        newrow = [path[-1], signal]\n",
    "        data_array.append(newrow)\n",
    "        \n",
    "    return data_array"
   ]
  },
  {
   "cell_type": "code",
   "execution_count": 7,
   "metadata": {},
   "outputs": [],
   "source": [
    "def mfcc_data_nparray(audios_data, n_mfcc=20, target_sample_rate=44100, verbose=False):\n",
    "    # MFCC parameters\n",
    "    hop_length=round(target_sample_rate*0.0125)\n",
    "    win_length=round(target_sample_rate*0.023)\n",
    "    n_fft=2**14\n",
    "    time_size = 4*target_sample_rate//hop_length+1\n",
    "    \n",
    "    # compute the MFCCs\n",
    "    data_mfcc = np.zeros(shape=(len(audios_data[1]), n_mfcc, time_size))\n",
    "    for index, audio_data in enumerate(audios_data[1]):\n",
    "        if verbose:\n",
    "            print(f\"At audio {index+1}/{len(audios_data)}\")\n",
    "        signal_mfcc = librosa.feature.mfcc(y=audio_data, sr=target_sample_rate, n_fft=n_fft, hop_length=hop_length, win_length=win_length, n_mfcc=n_mfcc)\n",
    "        data_mfcc[index] = signal_mfcc\n",
    "\n",
    "\n",
    "    return data_mfcc"
   ]
  },
  {
   "cell_type": "code",
   "execution_count": 8,
   "metadata": {},
   "outputs": [],
   "source": [
    "def get_features(df_in, audio):\n",
    "    features = [] # list to save features\n",
    "    labels = [] # list to save labels\n",
    "\n",
    "    for index in range(len(audio)):\n",
    "        # get the filename        \n",
    "        filename = audio[index][0]\n",
    "\n",
    "        # find correspondig row in df_in\n",
    "        row = df_in.loc[df_in[\"slice_file_name\"] == filename]\n",
    "\n",
    "        # get fold\n",
    "        fold = row['fold']\n",
    "\n",
    "        #save labels\n",
    "        label = row['classID'] \n",
    "      \n",
    "        hop_length = round(44100 * 0.0125)\n",
    "        n_fft = 2**14 #number of samples \n",
    "        data = np.array([librosa.feature.mfcc(y = audio[index][1], n_fft = n_fft, hop_length = hop_length, n_mfcc = 128)], fold)\n",
    "        \n",
    "        features.append(data)\n",
    "        labels.append(label)\n",
    "\n",
    "    output = np.concatenate(features, axis = 0)\n",
    "    return(np.array(output), labels)\n"
   ]
  },
  {
   "cell_type": "code",
   "execution_count": 9,
   "metadata": {},
   "outputs": [],
   "source": [
    "fold_path = \"../UrbanSound8K/audio/fold1/\"\n",
    "audio = zero_padded_data_nparray(fold_path)\n",
    "\n",
    "X,y = get_features(df, audio)"
   ]
  },
  {
   "cell_type": "code",
   "execution_count": 10,
   "metadata": {},
   "outputs": [],
   "source": [
    "# Normalizeing data\n",
    "X = np.array((X-np.min(X))/(np.max(X)-np.min(X)))\n",
    "X = X/np.std(X)\n",
    "y = np.array(y)"
   ]
  },
  {
   "cell_type": "code",
   "execution_count": 11,
   "metadata": {},
   "outputs": [
    {
     "data": {
      "text/plain": [
       "((558, 128, 321), (175, 128, 321), (140, 128, 321), 558, 175, 140)"
      ]
     },
     "execution_count": 11,
     "metadata": {},
     "output_type": "execute_result"
    }
   ],
   "source": [
    "#Split twice to get the validation set\n",
    "X_train, X_test, y_train, y_test = train_test_split(X, y, test_size = 0.20, random_state = 123, stratify = y)\n",
    "X_train, X_val, y_train, y_val = train_test_split(X_train, y_train, test_size = 0.20, random_state = 123)\n",
    "\n",
    "#Print the shapes\n",
    "X_train.shape, X_test.shape, X_val.shape, len(y_train), len(y_test), len(y_val)"
   ]
  },
  {
   "cell_type": "markdown",
   "metadata": {},
   "source": [
    "### Building the RNN\n"
   ]
  },
  {
   "cell_type": "markdown",
   "metadata": {},
   "source": [
    "#### Adding Layers"
   ]
  },
  {
   "cell_type": "code",
   "execution_count": 12,
   "metadata": {},
   "outputs": [
    {
     "name": "stdout",
     "output_type": "stream",
     "text": [
      "Model: \"sequential\"\n",
      "_________________________________________________________________\n",
      " Layer (type)                Output Shape              Param #   \n",
      "=================================================================\n",
      " lstm (LSTM)                 (None, 128)               578048    \n",
      "                                                                 \n",
      " dropout (Dropout)           (None, 128)               0         \n",
      "                                                                 \n",
      " dense (Dense)               (None, 128)               16512     \n",
      "                                                                 \n",
      " dense_1 (Dense)             (None, 64)                8256      \n",
      "                                                                 \n",
      " dropout_1 (Dropout)         (None, 64)                0         \n",
      "                                                                 \n",
      " dense_2 (Dense)             (None, 48)                3120      \n",
      "                                                                 \n",
      " dropout_2 (Dropout)         (None, 48)                0         \n",
      "                                                                 \n",
      " dense_3 (Dense)             (None, 10)                490       \n",
      "                                                                 \n",
      "=================================================================\n",
      "Total params: 606,426\n",
      "Trainable params: 606,426\n",
      "Non-trainable params: 0\n",
      "_________________________________________________________________\n"
     ]
    }
   ],
   "source": [
    "input_shape = (128,1000)\n",
    "\n",
    "model = keras.Sequential()\n",
    "\n",
    "model.add(layers.LSTM(128, input_shape=input_shape))\n",
    "model.add(layers.Dropout(0.2))\n",
    "model.add(layers.Dense(128, activation = 'relu'))\n",
    "model.add(layers.Dense(64, activation = 'relu'))\n",
    "model.add(layers.Dropout(0.4))\n",
    "model.add(layers.Dense(48, activation = 'relu'))\n",
    "model.add(layers.Dropout(0.4))\n",
    "model.add(layers.Dense(10, activation = 'softmax'))\n",
    "\n",
    "model.summary()"
   ]
  },
  {
   "cell_type": "markdown",
   "metadata": {},
   "source": [
    "#### Compole the Model\n",
    "\n",
    "The **Adam** optimizer manages the learning rate for stochastic gradient descent. The loss function is **SparseCategoricalCrossentropy**, which is used when each sample belongs to one label, as opposed to more than one, and it’s not binary classification. "
   ]
  },
  {
   "cell_type": "code",
   "execution_count": 13,
   "metadata": {},
   "outputs": [],
   "source": [
    "model.compile(optimizer='adam', loss='SparseCategoricalCrossentropy', metrics=['acc'])"
   ]
  },
  {
   "cell_type": "markdown",
   "metadata": {},
   "source": [
    "#### Fit the Model"
   ]
  },
  {
   "cell_type": "code",
   "execution_count": 14,
   "metadata": {},
   "outputs": [
    {
     "name": "stdout",
     "output_type": "stream",
     "text": [
      "Epoch 1/5\n"
     ]
    },
    {
     "ename": "ValueError",
     "evalue": "in user code:\n\n    File \"c:\\Users\\anton\\anaconda3\\envs\\MachineLearning2\\lib\\site-packages\\keras\\engine\\training.py\", line 1160, in train_function  *\n        return step_function(self, iterator)\n    File \"c:\\Users\\anton\\anaconda3\\envs\\MachineLearning2\\lib\\site-packages\\keras\\engine\\training.py\", line 1146, in step_function  **\n        outputs = model.distribute_strategy.run(run_step, args=(data,))\n    File \"c:\\Users\\anton\\anaconda3\\envs\\MachineLearning2\\lib\\site-packages\\keras\\engine\\training.py\", line 1135, in run_step  **\n        outputs = model.train_step(data)\n    File \"c:\\Users\\anton\\anaconda3\\envs\\MachineLearning2\\lib\\site-packages\\keras\\engine\\training.py\", line 993, in train_step\n        y_pred = self(x, training=True)\n    File \"c:\\Users\\anton\\anaconda3\\envs\\MachineLearning2\\lib\\site-packages\\keras\\utils\\traceback_utils.py\", line 70, in error_handler\n        raise e.with_traceback(filtered_tb) from None\n    File \"c:\\Users\\anton\\anaconda3\\envs\\MachineLearning2\\lib\\site-packages\\keras\\engine\\input_spec.py\", line 295, in assert_input_compatibility\n        raise ValueError(\n\n    ValueError: Input 0 of layer \"sequential\" is incompatible with the layer: expected shape=(None, 128, 1000), found shape=(None, 128, 321)\n",
     "output_type": "error",
     "traceback": [
      "\u001b[1;31m---------------------------------------------------------------------------\u001b[0m",
      "\u001b[1;31mValueError\u001b[0m                                Traceback (most recent call last)",
      "\u001b[1;32md:\\L_IACD\\SoundClassification\\ML2-Project\\rnn.ipynb Cell 17\u001b[0m line \u001b[0;36m1\n\u001b[1;32m----> <a href='vscode-notebook-cell:/d%3A/L_IACD/SoundClassification/ML2-Project/rnn.ipynb#X22sZmlsZQ%3D%3D?line=0'>1</a>\u001b[0m history \u001b[39m=\u001b[39m model\u001b[39m.\u001b[39;49mfit(X_train, y_train, epochs\u001b[39m=\u001b[39;49m\u001b[39m5\u001b[39;49m, batch_size\u001b[39m=\u001b[39;49m\u001b[39m72\u001b[39;49m, validation_data\u001b[39m=\u001b[39;49m(X_val, y_val), shuffle\u001b[39m=\u001b[39;49m\u001b[39mFalse\u001b[39;49;00m)\n",
      "File \u001b[1;32mc:\\Users\\anton\\anaconda3\\envs\\MachineLearning2\\lib\\site-packages\\keras\\utils\\traceback_utils.py:70\u001b[0m, in \u001b[0;36mfilter_traceback.<locals>.error_handler\u001b[1;34m(*args, **kwargs)\u001b[0m\n\u001b[0;32m     67\u001b[0m     filtered_tb \u001b[39m=\u001b[39m _process_traceback_frames(e\u001b[39m.\u001b[39m__traceback__)\n\u001b[0;32m     68\u001b[0m     \u001b[39m# To get the full stack trace, call:\u001b[39;00m\n\u001b[0;32m     69\u001b[0m     \u001b[39m# `tf.debugging.disable_traceback_filtering()`\u001b[39;00m\n\u001b[1;32m---> 70\u001b[0m     \u001b[39mraise\u001b[39;00m e\u001b[39m.\u001b[39mwith_traceback(filtered_tb) \u001b[39mfrom\u001b[39;00m \u001b[39mNone\u001b[39;00m\n\u001b[0;32m     71\u001b[0m \u001b[39mfinally\u001b[39;00m:\n\u001b[0;32m     72\u001b[0m     \u001b[39mdel\u001b[39;00m filtered_tb\n",
      "File \u001b[1;32m~\\AppData\\Local\\Temp\\__autograph_generated_fileyqtkkcrx.py:15\u001b[0m, in \u001b[0;36mouter_factory.<locals>.inner_factory.<locals>.tf__train_function\u001b[1;34m(iterator)\u001b[0m\n\u001b[0;32m     13\u001b[0m \u001b[39mtry\u001b[39;00m:\n\u001b[0;32m     14\u001b[0m     do_return \u001b[39m=\u001b[39m \u001b[39mTrue\u001b[39;00m\n\u001b[1;32m---> 15\u001b[0m     retval_ \u001b[39m=\u001b[39m ag__\u001b[39m.\u001b[39mconverted_call(ag__\u001b[39m.\u001b[39mld(step_function), (ag__\u001b[39m.\u001b[39mld(\u001b[39mself\u001b[39m), ag__\u001b[39m.\u001b[39mld(iterator)), \u001b[39mNone\u001b[39;00m, fscope)\n\u001b[0;32m     16\u001b[0m \u001b[39mexcept\u001b[39;00m:\n\u001b[0;32m     17\u001b[0m     do_return \u001b[39m=\u001b[39m \u001b[39mFalse\u001b[39;00m\n",
      "\u001b[1;31mValueError\u001b[0m: in user code:\n\n    File \"c:\\Users\\anton\\anaconda3\\envs\\MachineLearning2\\lib\\site-packages\\keras\\engine\\training.py\", line 1160, in train_function  *\n        return step_function(self, iterator)\n    File \"c:\\Users\\anton\\anaconda3\\envs\\MachineLearning2\\lib\\site-packages\\keras\\engine\\training.py\", line 1146, in step_function  **\n        outputs = model.distribute_strategy.run(run_step, args=(data,))\n    File \"c:\\Users\\anton\\anaconda3\\envs\\MachineLearning2\\lib\\site-packages\\keras\\engine\\training.py\", line 1135, in run_step  **\n        outputs = model.train_step(data)\n    File \"c:\\Users\\anton\\anaconda3\\envs\\MachineLearning2\\lib\\site-packages\\keras\\engine\\training.py\", line 993, in train_step\n        y_pred = self(x, training=True)\n    File \"c:\\Users\\anton\\anaconda3\\envs\\MachineLearning2\\lib\\site-packages\\keras\\utils\\traceback_utils.py\", line 70, in error_handler\n        raise e.with_traceback(filtered_tb) from None\n    File \"c:\\Users\\anton\\anaconda3\\envs\\MachineLearning2\\lib\\site-packages\\keras\\engine\\input_spec.py\", line 295, in assert_input_compatibility\n        raise ValueError(\n\n    ValueError: Input 0 of layer \"sequential\" is incompatible with the layer: expected shape=(None, 128, 1000), found shape=(None, 128, 321)\n"
     ]
    }
   ],
   "source": [
    "history = model.fit(X_train, y_train, epochs=5, batch_size=72, validation_data=(X_val, y_val), shuffle=False)"
   ]
  },
  {
   "cell_type": "code",
   "execution_count": 17,
   "metadata": {},
   "outputs": [
    {
     "name": "stdout",
     "output_type": "stream",
     "text": [
      "Model: \"sequential_2\"\n",
      "_________________________________________________________________\n",
      " Layer (type)                Output Shape              Param #   \n",
      "=================================================================\n",
      " lstm_2 (LSTM)               (None, 20)                27360     \n",
      "                                                                 \n",
      " dense_5 (Dense)             (None, 24)                504       \n",
      "                                                                 \n",
      "=================================================================\n",
      "Total params: 27,864\n",
      "Trainable params: 27,864\n",
      "Non-trainable params: 0\n",
      "_________________________________________________________________\n"
     ]
    }
   ],
   "source": [
    "input_shape=(128,321)\n",
    "\n",
    "model = tf.keras.Sequential()\n",
    "model.add(layers.LSTM( 20,input_shape=input_shape))\n",
    "model.add(layers.Dense(24, activation='softmax'))\n",
    "\n",
    "model.summary()"
   ]
  },
  {
   "cell_type": "code",
   "execution_count": 19,
   "metadata": {},
   "outputs": [
    {
     "name": "stdout",
     "output_type": "stream",
     "text": [
      "Epoch 1/50\n",
      "8/8 [==============================] - 6s 269ms/step - loss: 2.7489 - acc: 0.1487 - val_loss: 2.7836 - val_acc: 0.0929\n",
      "Epoch 2/50\n",
      "8/8 [==============================] - 1s 83ms/step - loss: 2.7050 - acc: 0.1487 - val_loss: 2.7431 - val_acc: 0.0929\n",
      "Epoch 3/50\n",
      "8/8 [==============================] - 1s 86ms/step - loss: 2.6650 - acc: 0.1487 - val_loss: 2.7059 - val_acc: 0.0929\n",
      "Epoch 4/50\n",
      "8/8 [==============================] - 1s 87ms/step - loss: 2.6285 - acc: 0.1487 - val_loss: 2.6721 - val_acc: 0.0929\n",
      "Epoch 5/50\n",
      "8/8 [==============================] - 1s 88ms/step - loss: 2.5953 - acc: 0.1487 - val_loss: 2.6414 - val_acc: 0.0929\n",
      "Epoch 6/50\n",
      "8/8 [==============================] - 1s 89ms/step - loss: 2.5653 - acc: 0.1487 - val_loss: 2.6137 - val_acc: 0.0929\n",
      "Epoch 7/50\n",
      "8/8 [==============================] - 1s 86ms/step - loss: 2.5383 - acc: 0.1487 - val_loss: 2.5888 - val_acc: 0.0929\n",
      "Epoch 8/50\n",
      "8/8 [==============================] - 1s 87ms/step - loss: 2.5140 - acc: 0.1487 - val_loss: 2.5665 - val_acc: 0.0929\n",
      "Epoch 9/50\n",
      "8/8 [==============================] - 1s 88ms/step - loss: 2.4922 - acc: 0.1487 - val_loss: 2.5465 - val_acc: 0.0929\n",
      "Epoch 10/50\n",
      "8/8 [==============================] - 1s 98ms/step - loss: 2.4726 - acc: 0.1487 - val_loss: 2.5287 - val_acc: 0.0929\n",
      "Epoch 11/50\n",
      "8/8 [==============================] - 1s 86ms/step - loss: 2.4502 - acc: 0.1487 - val_loss: 2.5034 - val_acc: 0.0929\n",
      "Epoch 12/50\n",
      "8/8 [==============================] - 1s 85ms/step - loss: 2.4322 - acc: 0.1487 - val_loss: 2.4897 - val_acc: 0.0929\n",
      "Epoch 13/50\n",
      "8/8 [==============================] - 1s 85ms/step - loss: 2.4181 - acc: 0.1487 - val_loss: 2.4776 - val_acc: 0.0929\n",
      "Epoch 14/50\n",
      "8/8 [==============================] - 1s 85ms/step - loss: 2.4054 - acc: 0.1487 - val_loss: 2.4668 - val_acc: 0.0929\n",
      "Epoch 15/50\n",
      "8/8 [==============================] - 1s 86ms/step - loss: 2.3940 - acc: 0.1487 - val_loss: 2.4571 - val_acc: 0.0929\n",
      "Epoch 16/50\n",
      "8/8 [==============================] - 1s 86ms/step - loss: 2.3837 - acc: 0.1487 - val_loss: 2.4483 - val_acc: 0.0929\n",
      "Epoch 17/50\n",
      "8/8 [==============================] - 1s 86ms/step - loss: 2.3745 - acc: 0.1487 - val_loss: 2.4403 - val_acc: 0.0929\n",
      "Epoch 18/50\n",
      "8/8 [==============================] - 1s 85ms/step - loss: 2.3661 - acc: 0.1487 - val_loss: 2.4331 - val_acc: 0.0929\n",
      "Epoch 19/50\n",
      "8/8 [==============================] - 1s 86ms/step - loss: 2.3584 - acc: 0.1487 - val_loss: 2.4265 - val_acc: 0.0929\n",
      "Epoch 20/50\n",
      "8/8 [==============================] - 1s 84ms/step - loss: 2.3515 - acc: 0.1487 - val_loss: 2.4204 - val_acc: 0.0929\n",
      "Epoch 21/50\n",
      "8/8 [==============================] - 1s 86ms/step - loss: 2.3452 - acc: 0.1487 - val_loss: 2.4148 - val_acc: 0.0929\n",
      "Epoch 22/50\n",
      "8/8 [==============================] - 1s 85ms/step - loss: 2.3395 - acc: 0.1487 - val_loss: 2.4097 - val_acc: 0.0929\n",
      "Epoch 23/50\n",
      "8/8 [==============================] - 1s 86ms/step - loss: 2.3342 - acc: 0.1487 - val_loss: 2.4049 - val_acc: 0.0929\n",
      "Epoch 24/50\n",
      "8/8 [==============================] - 1s 85ms/step - loss: 2.3293 - acc: 0.1487 - val_loss: 2.4006 - val_acc: 0.0929\n",
      "Epoch 25/50\n",
      "8/8 [==============================] - 1s 84ms/step - loss: 2.3249 - acc: 0.1487 - val_loss: 2.3965 - val_acc: 0.0929\n",
      "Epoch 26/50\n",
      "8/8 [==============================] - 1s 83ms/step - loss: 2.3207 - acc: 0.1487 - val_loss: 2.3927 - val_acc: 0.0929\n",
      "Epoch 27/50\n",
      "8/8 [==============================] - 1s 84ms/step - loss: 2.3169 - acc: 0.1487 - val_loss: 2.3891 - val_acc: 0.0929\n",
      "Epoch 28/50\n",
      "8/8 [==============================] - 1s 86ms/step - loss: 2.3134 - acc: 0.1487 - val_loss: 2.3858 - val_acc: 0.0929\n",
      "Epoch 29/50\n",
      "8/8 [==============================] - 1s 83ms/step - loss: 2.3101 - acc: 0.1487 - val_loss: 2.3827 - val_acc: 0.0929\n",
      "Epoch 30/50\n",
      "8/8 [==============================] - 1s 83ms/step - loss: 2.3070 - acc: 0.1487 - val_loss: 2.3798 - val_acc: 0.0929\n",
      "Epoch 31/50\n",
      "8/8 [==============================] - 1s 84ms/step - loss: 2.3042 - acc: 0.1487 - val_loss: 2.3771 - val_acc: 0.0929\n",
      "Epoch 32/50\n",
      "8/8 [==============================] - 1s 84ms/step - loss: 2.3015 - acc: 0.1487 - val_loss: 2.3745 - val_acc: 0.0929\n",
      "Epoch 33/50\n",
      "8/8 [==============================] - 1s 84ms/step - loss: 2.2990 - acc: 0.1487 - val_loss: 2.3720 - val_acc: 0.0929\n",
      "Epoch 34/50\n",
      "8/8 [==============================] - 1s 86ms/step - loss: 2.2966 - acc: 0.1487 - val_loss: 2.3697 - val_acc: 0.0929\n",
      "Epoch 35/50\n",
      "8/8 [==============================] - 1s 94ms/step - loss: 2.2944 - acc: 0.1487 - val_loss: 2.3675 - val_acc: 0.0929\n",
      "Epoch 36/50\n",
      "8/8 [==============================] - 1s 86ms/step - loss: 2.2923 - acc: 0.1487 - val_loss: 2.3654 - val_acc: 0.0929\n",
      "Epoch 37/50\n",
      "8/8 [==============================] - 1s 83ms/step - loss: 2.2904 - acc: 0.1487 - val_loss: 2.3635 - val_acc: 0.0929\n",
      "Epoch 38/50\n",
      "8/8 [==============================] - 1s 85ms/step - loss: 2.2885 - acc: 0.1487 - val_loss: 2.3616 - val_acc: 0.0929\n",
      "Epoch 39/50\n",
      "8/8 [==============================] - 1s 86ms/step - loss: 2.2867 - acc: 0.1487 - val_loss: 2.3598 - val_acc: 0.0929\n",
      "Epoch 40/50\n",
      "8/8 [==============================] - 1s 86ms/step - loss: 2.2851 - acc: 0.1487 - val_loss: 2.3581 - val_acc: 0.0929\n",
      "Epoch 41/50\n",
      "8/8 [==============================] - 1s 86ms/step - loss: 2.2835 - acc: 0.1487 - val_loss: 2.3565 - val_acc: 0.0929\n",
      "Epoch 42/50\n",
      "8/8 [==============================] - 1s 86ms/step - loss: 2.2820 - acc: 0.1487 - val_loss: 2.3550 - val_acc: 0.0929\n",
      "Epoch 43/50\n",
      "8/8 [==============================] - 1s 85ms/step - loss: 2.2806 - acc: 0.1487 - val_loss: 2.3535 - val_acc: 0.0929\n",
      "Epoch 44/50\n",
      "8/8 [==============================] - 1s 106ms/step - loss: 2.2792 - acc: 0.1487 - val_loss: 2.3521 - val_acc: 0.0929\n",
      "Epoch 45/50\n",
      "8/8 [==============================] - 1s 89ms/step - loss: 2.2779 - acc: 0.1487 - val_loss: 2.3507 - val_acc: 0.0929\n",
      "Epoch 46/50\n",
      "8/8 [==============================] - 1s 85ms/step - loss: 2.2767 - acc: 0.1487 - val_loss: 2.3495 - val_acc: 0.0929\n",
      "Epoch 47/50\n",
      "8/8 [==============================] - 1s 89ms/step - loss: 2.2755 - acc: 0.1487 - val_loss: 2.3482 - val_acc: 0.0929\n",
      "Epoch 48/50\n",
      "8/8 [==============================] - 1s 94ms/step - loss: 2.2744 - acc: 0.1487 - val_loss: 2.3470 - val_acc: 0.0929\n",
      "Epoch 49/50\n",
      "8/8 [==============================] - 1s 90ms/step - loss: 2.2733 - acc: 0.1487 - val_loss: 2.3459 - val_acc: 0.0929\n",
      "Epoch 50/50\n",
      "8/8 [==============================] - 1s 88ms/step - loss: 2.2723 - acc: 0.1487 - val_loss: 2.3448 - val_acc: 0.0929\n"
     ]
    }
   ],
   "source": [
    "model.compile(optimizer='adam', loss='SparseCategoricalCrossentropy', metrics=['acc'])\n",
    "history = model.fit(X_train, y_train, epochs=50, batch_size=72, validation_data=(X_val, y_val), shuffle=False)"
   ]
  },
  {
   "cell_type": "code",
   "execution_count": null,
   "metadata": {},
   "outputs": [],
   "source": [
    "#Adapted from Deep Learning with Python by Francois Chollet, 2018\n",
    "history_dict = history.history\n",
    "\n",
    "loss_values=history_dict['loss']\n",
    "acc_values=history_dict['acc']\n",
    "val_loss_values = history_dict['val_loss']\n",
    "val_acc_values=history_dict['val_acc']\n",
    "epochs = range(1,51)\n",
    "fig,(ax1,ax2)=plt.subplots(1,2,figsize=(15,5))\n",
    "ax1.plot(epochs,loss_values,'co',label='Training Loss')\n",
    "ax1.plot(epochs,val_loss_values,'m', label='Validation Loss')\n",
    "ax1.set_title('Training and validation loss')\n",
    "ax1.set_xlabel('Epochs')\n",
    "ax1.set_ylabel('Loss')\n",
    "ax1.legend()\n",
    "ax2.plot(epochs,acc_values,'co', label='Training accuracy')\n",
    "ax2.plot(epochs,val_acc_values,'m',label='Validation accuracy')\n",
    "ax2.set_title('Training and validation accuracy')\n",
    "ax2.set_xlabel('Epochs')\n",
    "ax2.set_ylabel('Accuracy')\n",
    "ax2.legend()\n",
    "plt.show()"
   ]
  }
 ],
 "metadata": {
  "kernelspec": {
   "display_name": "MachineLearning2",
   "language": "python",
   "name": "python3"
  },
  "language_info": {
   "codemirror_mode": {
    "name": "ipython",
    "version": 3
   },
   "file_extension": ".py",
   "mimetype": "text/x-python",
   "name": "python",
   "nbconvert_exporter": "python",
   "pygments_lexer": "ipython3",
   "version": "3.10.13"
  }
 },
 "nbformat": 4,
 "nbformat_minor": 2
}
